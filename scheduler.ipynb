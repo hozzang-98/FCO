{
 "cells": [
  {
   "cell_type": "code",
   "execution_count": 1,
   "metadata": {},
   "outputs": [
    {
     "data": {
      "text/html": [
       "<pre style=\"white-space:pre;overflow-x:auto;line-height:normal;font-family:Menlo,'DejaVu Sans Mono',consolas,'Courier New',monospace\"><span style=\"color: #808000; text-decoration-color: #808000; font-weight: bold\">/var/folders/wg/k0b4bxhx74zcv6t4ww39dh000000gn/T/ipykernel_30494/1741280495.py:</span><span style=\"color: #808000; text-decoration-color: #808000; font-weight: bold\">7</span><span style=\"color: #808000; text-decoration-color: #808000; font-weight: bold\"> DeprecationWarning</span><span style=\"color: #808000; text-decoration-color: #808000\">: The `airflow.operators.python_operator.PythonOperator` class is deprecated. Please use `</span><span style=\"color: #808000; text-decoration-color: #808000\">'airflow.operators.python.PythonOperator'</span><span style=\"color: #808000; text-decoration-color: #808000\">`.</span>\n",
       "</pre>\n"
      ],
      "text/plain": [
       "\u001b[1;33m/var/folders/wg/k0b4bxhx74zcv6t4ww39dh000000gn/T/ipykernel_30494/\u001b[0m\u001b[1;33m1741280495.py\u001b[0m\u001b[1;33m:\u001b[0m\u001b[1;33m7\u001b[0m\u001b[1;33m DeprecationWarning\u001b[0m\u001b[33m: The `airflow.operators.python_operator.PythonOperator` class is deprecated. Please use `\u001b[0m\u001b[33m'airflow.operators.python.PythonOperator'\u001b[0m\u001b[33m`.\u001b[0m\n"
      ]
     },
     "metadata": {},
     "output_type": "display_data"
    },
    {
     "data": {
      "text/html": [
       "<pre style=\"white-space:pre;overflow-x:auto;line-height:normal;font-family:Menlo,'DejaVu Sans Mono',consolas,'Courier New',monospace\"><span style=\"color: #808000; text-decoration-color: #808000; font-weight: bold\">/var/folders/wg/k0b4bxhx74zcv6t4ww39dh000000gn/T/ipykernel_30494/1741280495.py:</span><span style=\"color: #808000; text-decoration-color: #808000; font-weight: bold\">50</span><span style=\"color: #808000; text-decoration-color: #808000; font-weight: bold\"> RemovedInAirflow3Warning</span><span style=\"color: #808000; text-decoration-color: #808000\">: Param `schedule_interval` is deprecated and will be removed in a future release. Please use `schedule` instead.</span>\n",
       "</pre>\n"
      ],
      "text/plain": [
       "\u001b[1;33m/var/folders/wg/k0b4bxhx74zcv6t4ww39dh000000gn/T/ipykernel_30494/\u001b[0m\u001b[1;33m1741280495.py\u001b[0m\u001b[1;33m:\u001b[0m\u001b[1;33m50\u001b[0m\u001b[1;33m RemovedInAirflow3Warning\u001b[0m\u001b[33m: Param `schedule_interval` is deprecated and will be removed in a future release. Please use `schedule` instead.\u001b[0m\n"
      ]
     },
     "metadata": {},
     "output_type": "display_data"
    },
    {
     "data": {
      "text/plain": [
       "<Task(PythonOperator): crawl_data_task>"
      ]
     },
     "execution_count": 1,
     "metadata": {},
     "output_type": "execute_result"
    }
   ],
   "source": [
    "# 해당 유저의 최근 매치 5개 조회\n",
    "import requests, json\n",
    "from tqdm import tqdm\n",
    "from server import *\n",
    "\n",
    "from airflow import DAG\n",
    "from airflow.operators.python_operator import PythonOperator\n",
    "from datetime import datetime\n",
    "\n",
    "def collect_match():\n",
    "\n",
    "    with open(\"data/user_ouid.json\", \"r\", encoding=\"utf-8\") as file:\n",
    "    \n",
    "        user = json.load(file)  # JSON 데이터를 파이썬 리스트로 변환\n",
    "\n",
    "    total_match_list = []\n",
    "\n",
    "    func = USER_FUNCTION['match']\n",
    "\n",
    "    matchtype = 50 # 공식 경기 1vs1\n",
    "    offset = 0\n",
    "    limit = 5\n",
    "\n",
    "    for nickname,id in tqdm(user.items()):\n",
    "\n",
    "        urlString = basic_link + func + \"?ouid=\" + id + \"&matchtype=\" + str(matchtype) + \"&offset=\" + str(offset) + \"&limit=\" + str(limit)\n",
    "\n",
    "        response = requests.get(urlString, headers = headers)\n",
    "        \n",
    "        result = response.json()\n",
    "\n",
    "        for match_id in result:\n",
    "\n",
    "            total_match_list.append(match_id)\n",
    "\n",
    "    # JSON 파일로 저장\n",
    "    with open(\"data/matchid.json\", \"w\", encoding=\"utf-8\") as file:\n",
    "        \n",
    "        json.dump(list(set(total_match_list)), file, ensure_ascii=False, indent=4)  # ensure_ascii=False로 한글 깨짐 방지\n",
    "\n",
    "# 기본 설정\n",
    "default_args = {\n",
    "    'owner': 'user',\n",
    "    'depends_on_past': False,\n",
    "    'start_date': datetime(2025, 1, 17),\n",
    "    'retries': 1,\n",
    "}\n",
    "\n",
    "# DAG 정의\n",
    "dag = DAG(\n",
    "    dag_id='web_crawling_dag',\n",
    "    default_args=default_args,\n",
    "    description='A DAG for web crawling',\n",
    "    schedule_interval='@monthly',  # 매달 1회 실행\n",
    "    catchup=False,\n",
    ")\n",
    "\n",
    "# PythonOperator로 작업 등록\n",
    "crawl_task = PythonOperator(\n",
    "    task_id='crawl_data_task',\n",
    "    python_callable=collect_match,  # 크롤링 함수 연결\n",
    "    dag=dag,\n",
    ")\n",
    "\n",
    "#  DAG 실행 순서 정의\n",
    "crawl_task  # 단일 작업일 경우 순서 지정 생략 가능"
   ]
  }
 ],
 "metadata": {
  "kernelspec": {
   "display_name": "modeling_env",
   "language": "python",
   "name": "python3"
  },
  "language_info": {
   "codemirror_mode": {
    "name": "ipython",
    "version": 3
   },
   "file_extension": ".py",
   "mimetype": "text/x-python",
   "name": "python",
   "nbconvert_exporter": "python",
   "pygments_lexer": "ipython3",
   "version": "3.12.2"
  }
 },
 "nbformat": 4,
 "nbformat_minor": 2
}
