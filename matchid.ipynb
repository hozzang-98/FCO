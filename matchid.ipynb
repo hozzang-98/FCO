{
 "cells": [
  {
   "cell_type": "code",
   "execution_count": 1,
   "metadata": {},
   "outputs": [],
   "source": [
    "import requests, json\n",
    "\n",
    "from tqdm import tqdm\n",
    "\n",
    "from server import *"
   ]
  },
  {
   "cell_type": "code",
   "execution_count": 8,
   "metadata": {},
   "outputs": [
    {
     "name": "stdout",
     "output_type": "stream",
     "text": [
      "{'Prime제휘담': 'dd042231e9299d3b1dd5fff208164476', 'SainT성지원': '0391afc24268b0e891e50b0128446559', '카메라': '656b66220954c703c2a6d3ddc459a508', 'Innate김승환': 'fc386df2249a07e7931de4e165c94d94', 'Climax빌런': '3b9133391e22123d9fabca2f10c02d5e', '노영진짜못해': 'c2184938c04475eb1176a662c7bd4f20', 'UnLMTD원재': 'ed21d7ffb2af4db54ed91d155516a567', 'Prime정민': '4a9ab33d85705cebde17e4cdf391b96d', '리바이브인호': '9efc93e15198a3d72ab57a7a1ea4e11b', 'SainT지원': 'c3e85059a265c26639eee6a3b6586e03', 'DHFC김병권': '86424bf269f0867434512ac7a9b424d4', 'Prime림광철': '01afcd5672e0e2ab5d63a2259445e8e9', '내가왜져야하는데': '3247c0f38c9d9a3b7405b8639a2a85ce', 'KDF박기홍': 'a3ec9f756301ad6deafe1f930124f0ea', 'DHFC김경식': '4c6a9a25d726192575c129d5d289f43c', 'GenGYumin': 'd83327056d9eb986cabcec68fc276f4f', 'zI존한국짱123': '4f3fd3cf2a639bf0002c93993bf125da', '네이마르': '5eda56bcf54c9df0142d5259b868f9f5', '리바이브나이트': '4e4096402f764e2a664eb0adfe4109d8', 'KDF강준호': '86caf7598ea79a833b176139b7d76fcb', '울산HD박지민': '1e5c2fa37df1275f15b5d778b14d4c27', 'GenG윤창근': '6ed4a7cf6827afb37dcfb2240c602688', '쿠키런': 'abec89918d407899813093062514fc23', 'Volition김원': 'ace652363cc849d864cb08ffeffe4205', '리바이브이원희': '1108c86f12ac641cc297ce60671cd0aa', '이터니티준호': '89699ef1dfca418f580368afa2436566', 'KDF김시경': 'd7ceea5addc7ace523d0a41296669946', 'Prime몽주': 'bb7d9aba55887ae5a278a07c790ae929', 'Prime천문기': '03e408ac28cc8196602d0bcfc5ddb6cc', 'ReviveINHO': 'fdd6a7c89e746c833e8f7af8cadfde5b', '빵사와라예랑e': 'f1291f967073856403bec004405e1859', 'Eternity테빗': 'd56764d711129ae70ea82791cb76c42c', 'UnLMTD이민석': 'ca39161ac838183530d4a1248907b71b', '방배우': 'b0cf81f2f4f053e4a64fcb946ed0c234', '정글링': '5b544cdb2cf24da4076751bdec549e31', 'Volition희수': 'ff8ec8e7ec58611f08bf97f803e8916d', '알파메일신경섭': '6d92bf89ca76f233a7ce750b5a24cad5', 'KwonChangHwan': 'f8e71b18255be477fa5aa2429ed24ed3', '유나': '314c9e7e68905690be4bde7f27bd2022', 'LEEJOONSEO': 'ba9573e3ff2a743eb1eb4a58a3e6601e', '인바디': 'e9601e0afc66e969ee7cfdc3706bb7a2', '찐드기': '0e6a50a2ab3990962313734ad9ccf4d6', '화력': '9809482bbb0eea976febf4516f5c828a', 'BenzSangDi': 'f3a8ba5f85880084ab62e9a5590bc599', '규직의강의교실': '8beae907ca6019f960c056b9c4b88190', 'KimYooMin': '273cb73976b33dc7ee374a1dde36f16b', '이터니티태연': 'bca05c62ec8f55ac062e8af896a23256', '언타이틀버거': 'a52f7c0b390bf1e77d5e62299dacd233', 'Barca메씨': 'b02619037a36503c105bbd0d0b937b75', '천재노창': 'f1d48086a07d0133a0b75a6e8791e180', '벤츠또못살게구네': '06f5ce6b8a36142884e56ec2da84e14b', '김태현미밥1': '426d5a5d3d8892158e3b49cee361d5e4', '보물섬': '752f823e171bba144c516086bda3d89a', 'SN배우진': 'f13dbb63b93512b4a1817f3ac49afbf9', '언리밋성빈': '3e39840e49302607214bd45ba0f6757e', 'PG빼사안빼사': '282129046e8ff1826eba79d7fa5eaa23', 'ClimaxJJM': '82fd7db1b7d49efff6826fe7b62fffa3', '2030년독일여행': '98df4c7df52e5e9fa9626defbf0a5fc9', '대구코치': '41d8d1cd46a1c3c8a923281828d709d0', 'UnLMTD박민근': '428312f19c668b354f3a72fbff1d70f3', 'MuJinKang': '7a7f50961ab11da46113ca562aa29a83', 'Fifagrim': '5fac86ef44989fe9a1209f9d6acb39d4', 'Prime조재현': '5541222142c126a279848169bec4a9a5', '공격포인트만들기': '016363f2633043c6184401856c8c9cdd', '상쾌한항외과': '4070d31c04918c14713fdcde44bb16cb', '뉴애라': '43da0fbf28609636a00c6e18750b6cb0', '하민': '85368c186ae7e93565bbff4c1b27af29', 'FA인연님': '1b7efd8fa5883c4d3307bb5161f6b4b7', '이니에스타': '080495b9b289a303b63ca49f2a07ddfd', 'BlacKsTIGERS': '94f6307ec47518df909f0b098e795d47', 'Volition홍준형': '27a2efa68d0ff3a676cbb67022e8f88b', '리바이브선재': 'ec140c6a6f2419041e6e0cc7a57a85bb', '리바이브안레반': 'eba5351f863a1958de4c073789821833', '하나선생님': 'bf1db98e2e5f7c2699743a72f83ed15b', 'KT곽준혁': '5dc6f3efa3b748d3873bd12e6c8ec71d', 'Prime오센세': '90c6dc8dbf96510474b9ccfa035d398b', '이터니티시뚱이': '3fa7e4a9825e0041eaba98692e862e50', 'MelodyMarksVN': 'b90691990d6789c697e957218ac50d04', 'SainT김들': '67533ab5edffc5b370616a01f7d9b6f0', '변식빵': '49fed13f4617e00b686316bbf1b6cb01', 'HAPTIK12': 'fdfe6a39aad4277f2b48c6dc8f7439a9', 'VwKMJ': '14750ab000cd811f4acadbf08f9bd97e', '아름이란': '596b48f11164e472a37f5fa8ad1bffa2', 'SOOP호지윤': '70ea279aaee6da0ccae9c0cc2b640a13', '리바이브제리': '58349232fb9af467074283cee7dc124b', '롤로노아장형석': '982a497a6f56c1012376910ce2271a25', 'IksanPeople': 'd6d7358310f1dad3236f0bc755d8d678', 'Yammy민사용': '03bbc1ba0c832e48328a3e31ecc46f3e', 'Benz보리': '68104f681d4917bceb419902e38bcb3b', 'Volition민재': 'e39ff4fac555566b7150625c43f6c683', 'l키컨l': '93e0e9bebaa2be5d4e94cd64baadfb35', 'Ars승유아부지': '7ebceb0592d57d5a879affe86e97ac38', '권래영': 'da5688aed35c826778b78c3a3879c948', '프라임이동빈': '6a2b9249df420d40f7d1f1342d117f08', '이터니티1번말': 'ec6a7075c45e1649edcd4faee693f331', '인동송동인': '93747224e62894aa2e43bf90c6dada4e', 'Prime학진': 'c1aab87bf8056e79ee570413a307b38e', '윙어': '9880db0c1db8cf1618e3be7d380a54cb', 'Unvary준호': '68d4d4d58d0c2be4cbfe158d31b975ef', '이터니티주드': '71074df0a2fa31d1e0ba09afe664087e', 'SOOP카민': 'f5a4a15c068807e09490e9876d6420bb', 'EternityHW': '211ec7e1a39132ddd9baa396f5c7a747', '팝콘': '0670408605d2727533b8d0d195217e86', 'KIM뱅뱅': '8ffeed89b130e7eafdd96d2d4d9a5342', '타워': 'b0a24490f42c6b16fd07cdc5059b45cd', '이터니티지기': '91e8420d1499d2681876f66c6508fb7e', 'PhamHannie': '3b749491ab845c0ed69bca07be54db76', '이터니티망크': 'b44c655dcddbb1fd9e6c1df228ed5031', '재명킬러에시앙': 'df891dfa9903dd565474620866300a9d', 'lSTP': 'fa45e4eed74a2c455bd3fbb11b19d673', '유이령': '316f00ab989fe7f5480d5904d0969a47', 'DOKGODlE': 'c9fdcacba53a574fb7adcae9fc6bcbeb', 'Prime가뿐': 'e3f050020ff14f644879f7784cc3d1a0', 'Benzkaka': '5e943e1bdc70c60ab990cda7a4a94705', '울산HD성제경': 'a88b10d1f641e07685ba20c70f71ac60', 'BenzRace': '08703626195b4ec7acb9f02c33719fcb', 'Eternity235': '2bd3c557f78dfb1752d99e9d3a199004', 'Innate김재디': '39d4db153a75eea75cfd34efeed971c2', '현장박': '9fb9b03bc0b90efd672ac879f55c70b8', '이터니티정빈': 'df3cdfbf6af8066412760fd3c89ce308', '디태': '798d98b2d0f0b066e76f657c279ef481', '손가락살': '06485f9fb42fa325deb75815cc009fc0', 'LoveMeorHateMe': '4bcee76c6912a39b8f10abe0edf29eb0', '벤츠구혜정': 'e99437ce068b03e3b39f70bc59230209', 'Prime김경민': '5679da4b09e4ac5d0f3e7d52d0be0583', '슛못하는왼발잡이': '992819c32a72af2b1e208a4431a7dd14', 'Volition치즈불닭': '996fb9668a5c36ed5a9ef77f17f0d5e9', '모든행운나에게로': 'dccc6d166869adab90d4b67f587f6791', '엄홍식': '4ae84483040ac4d35a90be2e579241ec', 'FCBarca1415': '3fa592bbd1d2f3238fdee5f3d9d6280a', 'Frizm블락': '32a7460f0f60888bdfa3516ca384205c', '040822': '05c09aec214905f962baa25b8f290fb3', '게임때매힘든사람': '060607d9eb5b6433c1490266b9f9622f', 'Eunice이정호': 'b6748b1f7b6a135ed2a232e8ac188ba1', 'Fleuve': 'dfc606f139ae02c0aadf68f89eaebc88', '하루권장량': '943945f8af6cfbde89779a3900c4986c', 'Climax전두광': '3201af77759cd49d75ca3fdc38718fe7', '벤츠유협': '16ab65fca93aabdbd889f14df9ba1893', '약탈': '30e96bd9b3d067a3c23ee4fb142cbf08', '복무': '13d7a2ef2a1b9c589eed9ccdd967c54b', 'Edith차카': '1e082a21ac502ad49dd3036da392bfba', '리바이브겸손': '8c83f592de2ce67add203a001ded8606', 'Frizm우찬': 'd06a3070606dc1e3f6ff8fc0f9073b77', '리바이브코튼': '437eddc8472e4f68aa6a064c68db474e', 'VietnamGang': 'bfc95a1d825d4054a09540f9fe8b258e', '리바이브민혁': 'f38099dd04601a03bc11d9331dbcd9f6', '본킴': 'a53ea1ef50ef835f85deac8e64987220', 'Benz비수': 'f7f22d964f361aa3c5f681545c5ea5bd', 'AL2005': '4eb6718bad3d04e6ef571efbd340fc93', 'DFWin': 'e799dddb6ca9f9b86ac56706692bca31', 'EuniceLEE': '17f6ef2d97c509d332c92190a001fb60', 'EliteJM': '5dc2fe3e2d80ac6976b372a78668bb83', '나랑축구하러갈래': '42979d4e0bbd7830b31312129fa76bd5', '도그즈만': '55f3df188823a8524375a488e1eea59a', '이터니티동민': '659a368f24ccca29f355615b7f45509a', '피파운으로하기': '2547931709c3d6282de7c4bb464e421b', 'tjqkdqnfvo': '10b91a6cb5160a4b0977bd892416b59f', '이터니티김동호': 'cb17dd0a5019db8afb01b11492290d92', 'Ars리트마넨': 'c967665875462bca0c55b76a0a66aa77', 'SNMSK': 'b59d39c57ab585dc10c0db27b27768ff'}\n"
     ]
    }
   ],
   "source": [
    "with open(\"data/user_ouid.json\", \"r\", encoding=\"utf-8\") as file:\n",
    "    \n",
    "    user = json.load(file)  # JSON 데이터를 파이썬 리스트로 변환\n",
    "\n",
    "print(user)"
   ]
  },
  {
   "cell_type": "code",
   "execution_count": null,
   "metadata": {},
   "outputs": [
    {
     "name": "stderr",
     "output_type": "stream",
     "text": [
      "100%|██████████| 160/160 [01:51<00:00,  1.44it/s]\n"
     ]
    }
   ],
   "source": [
    "# 해당 유저의 최근 매치 5개 조회\n",
    "\n",
    "total_match_list = []\n",
    "\n",
    "func = USER_FUNCTION['match']\n",
    "\n",
    "matchtype = 50 # 공식 경기 1vs1\n",
    "offset = 0\n",
    "limit = 5\n",
    "\n",
    "for nickname,id in tqdm(user.items()):\n",
    "\n",
    "    urlString = basic_link + func + \"?ouid=\" + id + \"&matchtype=\" + str(matchtype) + \"&offset=\" + str(offset) + \"&limit=\" + str(limit)\n",
    "\n",
    "    response = requests.get(urlString, headers = headers)\n",
    "    \n",
    "    result = response.json()\n",
    "\n",
    "    for match_id in result:\n",
    "\n",
    "        total_match_list.append(match_id)\n",
    "\n",
    "# JSON 파일로 저장\n",
    "with open(\"data/matchid.json\", \"w\", encoding=\"utf-8\") as file:\n",
    "    \n",
    "    json.dump(list(set(total_match_list)), file, ensure_ascii=False, indent=4)  # ensure_ascii=False로 한글 깨짐 방지"
   ]
  }
 ],
 "metadata": {
  "kernelspec": {
   "display_name": "modeling_env",
   "language": "python",
   "name": "python3"
  },
  "language_info": {
   "codemirror_mode": {
    "name": "ipython",
    "version": 3
   },
   "file_extension": ".py",
   "mimetype": "text/x-python",
   "name": "python",
   "nbconvert_exporter": "python",
   "pygments_lexer": "ipython3",
   "version": "3.12.2"
  }
 },
 "nbformat": 4,
 "nbformat_minor": 2
}
